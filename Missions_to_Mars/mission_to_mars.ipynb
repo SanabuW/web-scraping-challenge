{
 "metadata": {
  "language_info": {
   "codemirror_mode": {
    "name": "ipython",
    "version": 3
   },
   "file_extension": ".py",
   "mimetype": "text/x-python",
   "name": "python",
   "nbconvert_exporter": "python",
   "pygments_lexer": "ipython3",
   "version": "3.8.3-final"
  },
  "orig_nbformat": 2,
  "kernelspec": {
   "name": "python3",
   "display_name": "Python 3",
   "language": "python"
  }
 },
 "nbformat": 4,
 "nbformat_minor": 2,
 "cells": [
  {
   "cell_type": "code",
   "execution_count": 1,
   "metadata": {},
   "outputs": [],
   "source": [
    "# Import libraries\n",
    "from bs4 import BeautifulSoup as bs\n",
    "import requests\n",
    "import time\n",
    "import pymongo\n",
    "from pprint import pprint"
   ]
  },
  {
   "source": [
    "# NASA Mars News"
   ],
   "cell_type": "markdown",
   "metadata": {}
  },
  {
   "cell_type": "code",
   "execution_count": 2,
   "metadata": {},
   "outputs": [],
   "source": [
    "# Build Beautiful Soup object\n",
    "url_home = \"https://mars.nasa.gov/news/?page=0&per_page=40&order=publish_date+desc%2Ccreated_at+desc&search=&category=19%2C165%2C184%2C204&blank_scope=Latest\"\n",
    "\n",
    "html_home = requests.get(url_home)\n",
    "soup_home = bs(html_home.text, 'html.parser')"
   ]
  },
  {
   "cell_type": "code",
   "execution_count": 13,
   "metadata": {},
   "outputs": [
    {
     "output_type": "stream",
     "name": "stdout",
     "text": [
      "NASA's Mars Perseverance Rover Provides Front-Row Seat to Landing, First Audio Recording of Red Planet\n"
     ]
    }
   ],
   "source": [
    "# Find title\n",
    "results_title = soup_home.find(\"div\", class_=\"content_title\")\n",
    "news_title = results_title.a.text.strip()\n",
    "\n",
    "# Find p text\n",
    "results_p = soup_home.find(\"div\", class_=\"content_title\")\n",
    "news_p = results_p.text.strip()\n",
    "print(news_p)"
   ]
  },
  {
   "source": [
    "# JPL Mars Space Images - Featured Image\n"
   ],
   "cell_type": "markdown",
   "metadata": {}
  },
  {
   "cell_type": "code",
   "execution_count": 14,
   "metadata": {},
   "outputs": [
    {
     "output_type": "stream",
     "name": "stderr",
     "text": [
      "[WDM] - ====== WebDriver manager ======\n",
      "[WDM] - Current google-chrome version is 88.0.4324\n",
      "[WDM] - Get LATEST driver version for 88.0.4324\n",
      "[WDM] - Driver [C:\\Users\\sanab\\.wdm\\drivers\\chromedriver\\win32\\88.0.4324.96\\chromedriver.exe] found in cache\n",
      "\n",
      "\n"
     ]
    }
   ],
   "source": [
    "# Import libraries\n",
    "from splinter import Browser\n",
    "from webdriver_manager.chrome import ChromeDriverManager\n",
    "\n",
    "# Set up driver\n",
    "executable_path = {'executable_path': ChromeDriverManager().install()}\n",
    "browser = Browser('chrome', **executable_path, headless=False)\n",
    "\n",
    "# Point browser to URL and build Beautiful Soup object\n",
    "images_url = \"https://data-class-jpl-space.s3.amazonaws.com/JPL_Space/index.html\"\n",
    "browser.visit(images_url)\n",
    "html_images_url = browser.html\n",
    "soup_image = bs (html_images_url, \"html.parser\")"
   ]
  },
  {
   "cell_type": "code",
   "execution_count": 15,
   "metadata": {},
   "outputs": [
    {
     "output_type": "stream",
     "name": "stdout",
     "text": [
      "https://data-class-jpl-space.s3.amazonaws.com/JPL_Space/image/featured/mars2.jpg\n"
     ]
    }
   ],
   "source": [
    "# Find image URL in button\n",
    "results_image = soup_image.find(\"a\", class_=\"fancybox-thumbs\")[\"href\"]\n",
    "\n",
    "# Build full URL\n",
    "image_base_url = \"https://data-class-jpl-space.s3.amazonaws.com/JPL_Space/\"\n",
    "image_full_url = image_base_url + results_image\n",
    "print(image_full_url)\n",
    "# close browser\n",
    "browser.quit()"
   ]
  },
  {
   "source": [
    "# Mars Facts"
   ],
   "cell_type": "markdown",
   "metadata": {}
  },
  {
   "cell_type": "code",
   "execution_count": 3,
   "metadata": {},
   "outputs": [],
   "source": [
    "# Get facts table\n",
    "import pandas as pd\n",
    "table_url = \"https://space-facts.com/mars/\"\n",
    "mars_table = pd.read_html(table_url)[0]"
   ]
  },
  {
   "cell_type": "code",
   "execution_count": 11,
   "metadata": {},
   "outputs": [
    {
     "output_type": "execute_result",
     "data": {
      "text/plain": [
       "                      0                              1\n",
       "0  Equatorial Diameter:                       6,792 km\n",
       "1       Polar Diameter:                       6,752 km\n",
       "2                 Mass:  6.39 × 10^23 kg (0.11 Earths)\n",
       "3                Moons:            2 (Phobos & Deimos)\n",
       "4       Orbit Distance:       227,943,824 km (1.38 AU)\n",
       "5         Orbit Period:           687 days (1.9 years)\n",
       "6  Surface Temperature:                   -87 to -5 °C\n",
       "7         First Record:              2nd millennium BC\n",
       "8          Recorded By:           Egyptian astronomers"
      ],
      "text/html": "<div>\n<style scoped>\n    .dataframe tbody tr th:only-of-type {\n        vertical-align: middle;\n    }\n\n    .dataframe tbody tr th {\n        vertical-align: top;\n    }\n\n    .dataframe thead th {\n        text-align: right;\n    }\n</style>\n<table border=\"1\" class=\"dataframe\">\n  <thead>\n    <tr style=\"text-align: right;\">\n      <th></th>\n      <th>0</th>\n      <th>1</th>\n    </tr>\n  </thead>\n  <tbody>\n    <tr>\n      <th>0</th>\n      <td>Equatorial Diameter:</td>\n      <td>6,792 km</td>\n    </tr>\n    <tr>\n      <th>1</th>\n      <td>Polar Diameter:</td>\n      <td>6,752 km</td>\n    </tr>\n    <tr>\n      <th>2</th>\n      <td>Mass:</td>\n      <td>6.39 × 10^23 kg (0.11 Earths)</td>\n    </tr>\n    <tr>\n      <th>3</th>\n      <td>Moons:</td>\n      <td>2 (Phobos &amp; Deimos)</td>\n    </tr>\n    <tr>\n      <th>4</th>\n      <td>Orbit Distance:</td>\n      <td>227,943,824 km (1.38 AU)</td>\n    </tr>\n    <tr>\n      <th>5</th>\n      <td>Orbit Period:</td>\n      <td>687 days (1.9 years)</td>\n    </tr>\n    <tr>\n      <th>6</th>\n      <td>Surface Temperature:</td>\n      <td>-87 to -5 °C</td>\n    </tr>\n    <tr>\n      <th>7</th>\n      <td>First Record:</td>\n      <td>2nd millennium BC</td>\n    </tr>\n    <tr>\n      <th>8</th>\n      <td>Recorded By:</td>\n      <td>Egyptian astronomers</td>\n    </tr>\n  </tbody>\n</table>\n</div>"
     },
     "metadata": {},
     "execution_count": 11
    }
   ],
   "source": [
    "mars_table"
   ]
  },
  {
   "cell_type": "code",
   "execution_count": 26,
   "metadata": {},
   "outputs": [
    {
     "output_type": "stream",
     "name": "stdout",
     "text": [
      "35\n1067\n <thead>\n    <tr style=\"text-align: right;\">\n      <th></th>\n      <th>0</th>\n      <th>1</th>\n    </tr>\n  </thead>\n  <tbody>\n    <tr>\n      <th>0</th>\n      <td>Equatorial Diameter:</td>\n      <td>6,792 km</td>\n    </tr>\n    <tr>\n      <th>1</th>\n      <td>Polar Diameter:</td>\n      <td>6,752 km</td>\n    </tr>\n    <tr>\n      <th>2</th>\n      <td>Mass:</td>\n      <td>6.39 × 10^23 kg (0.11 Earths)</td>\n    </tr>\n    <tr>\n      <th>3</th>\n      <td>Moons:</td>\n      <td>2 (Phobos &amp; Deimos)</td>\n    </tr>\n    <tr>\n      <th>4</th>\n      <td>Orbit Distance:</td>\n      <td>227,943,824 km (1.38 AU)</td>\n    </tr>\n    <tr>\n      <th>5</th>\n      <td>Orbit Period:</td>\n      <td>687 days (1.9 years)</td>\n    </tr>\n    <tr>\n      <th>6</th>\n      <td>Surface Temperature:</td>\n      <td>-87 to -5 °C</td>\n    </tr>\n    <tr>\n      <th>7</th>\n      <td>First Record:</td>\n      <td>2nd millennium BC</td>\n    </tr>\n    <tr>\n      <th>8</th>\n      <td>Recorded By:</td>\n      <td>Egyptian astronomers</td>\n    </tr>\n  </tbody>\n"
     ]
    }
   ],
   "source": [
    "# convert to html table and save to file, if necessary later\n",
    "mars_table.to_html(\"mars_table.html\")\n",
    "\n",
    "# show HTML\n",
    "table_html = mars_table.to_html()\n",
    "print(table_html.find(\">\"))\n",
    "print(table_html.rfind(\"<\"))\n",
    "print(table_html[table_html.index(\">\")+3:table_html.rfind(\"<\")-1])"
   ]
  },
  {
   "source": [
    "# Mars Hemispheres"
   ],
   "cell_type": "markdown",
   "metadata": {}
  },
  {
   "source": [
    "# Build Beautiful Soup object\n",
    "url_hemi = \"https://astrogeology.usgs.gov/search/results?q=hemisphere+enhanced&k1=target&v1=Mars\"\n",
    "\n",
    "html_hemi = requests.get(url_hemi)\n",
    "soup_hemi = bs(html_hemi.text, 'html.parser')"
   ],
   "cell_type": "code",
   "metadata": {},
   "execution_count": 19,
   "outputs": []
  },
  {
   "source": [
    "# Get a count of how many divs there are with class \"item\"\n",
    "results_hemi = soup_hemi.find_all(\"div\", class_=\"item\")\n",
    "count = len(results_hemi) + 1\n",
    "\n",
    "# Set up driver\n",
    "executable_path = {'executable_path': ChromeDriverManager().install()}\n",
    "browser = Browser('chrome', **executable_path, headless=False)\n",
    "\n",
    "# Point browser to URL and build Beautiful Soup object\n",
    "browser.visit(url_hemi)\n",
    "iterVar = 0\n",
    "hemi_list = []\n",
    "\n",
    "# for each one, find the first a tag with class \"itemLink product-item\" and click on it\n",
    "for h in results_hemi:\n",
    "    # use webdriver to click on link depending on iteration count\n",
    "    browser.find_by_tag('h3')[iterVar].click()\n",
    "\n",
    "    # Build beautiful soup object from new page\n",
    "    html_hemi = browser.html\n",
    "    soup_hemi_ind = bs(html_hemi, 'html.parser')\n",
    "\n",
    "    # get title from first h2 tag\n",
    "    title = soup_hemi_ind.find(\"h2\").text\n",
    "    title_cleaned = \" \".join(title.split(\" \")[0:-1])\n",
    "\n",
    "    # find first div of class \"downloads\", then find first a within the reults and pull the href string\n",
    "    img_url_hemi = soup_hemi_ind.find(\"div\", class_=\"downloads\").find(\"a\")[\"href\"]\n",
    "    # create dictionary for current single hemisphere\n",
    "    new_hemi = {\n",
    "        \"title\": title_cleaned,\n",
    "        \"image_url\": img_url_hemi,\n",
    "    }\n",
    "    # append dictionary to the list of hemispheres\n",
    "    hemi_list.append(new_hemi)\n",
    "    iterVar += 1\n",
    "    # back out of the page\n",
    "    browser.back()\n",
    "    # continue to new iteration\n",
    "\n",
    "# close browser after all iterations are completed\n",
    "browser.quit()"
   ],
   "cell_type": "code",
   "metadata": {},
   "execution_count": 20,
   "outputs": [
    {
     "output_type": "stream",
     "name": "stderr",
     "text": [
      "[WDM] - ====== WebDriver manager ======\n",
      "[WDM] - Current google-chrome version is 88.0.4324\n",
      "[WDM] - Get LATEST driver version for 88.0.4324\n",
      "[WDM] - Driver [C:\\Users\\sanab\\.wdm\\drivers\\chromedriver\\win32\\88.0.4324.96\\chromedriver.exe] found in cache\n",
      "\n",
      "\n"
     ]
    }
   ]
  },
  {
   "cell_type": "code",
   "execution_count": 21,
   "metadata": {},
   "outputs": [
    {
     "output_type": "stream",
     "name": "stdout",
     "text": [
      "{'hemi_list': [{'image_url': 'https://astropedia.astrogeology.usgs.gov/download/Mars/Viking/cerberus_enhanced.tif/full.jpg',\n                'title': 'Cerberus Hemisphere'},\n               {'image_url': 'https://astropedia.astrogeology.usgs.gov/download/Mars/Viking/schiaparelli_enhanced.tif/full.jpg',\n                'title': 'Schiaparelli Hemisphere'},\n               {'image_url': 'https://astropedia.astrogeology.usgs.gov/download/Mars/Viking/syrtis_major_enhanced.tif/full.jpg',\n                'title': 'Syrtis Major Hemisphere'},\n               {'image_url': 'https://astropedia.astrogeology.usgs.gov/download/Mars/Viking/valles_marineris_enhanced.tif/full.jpg',\n                'title': 'Valles Marineris Hemisphere'}],\n 'image_full_url': 'https://data-class-jpl-space.s3.amazonaws.com/JPL_Space/image/featured/mars2.jpg',\n 'news_p': \"NASA's Mars Perseverance Rover Provides Front-Row Seat to Landing, \"\n           'First Audio Recording of Red Planet',\n 'news_title': \"NASA's Mars Perseverance Rover Provides Front-Row Seat to \"\n               'Landing, First Audio Recording of Red Planet',\n 'table_html': '<table border=\"1\" class=\"dataframe\">\\n'\n               '  <thead>\\n'\n               '    <tr style=\"text-align: right;\">\\n'\n               '      <th></th>\\n'\n               '      <th>0</th>\\n'\n               '      <th>1</th>\\n'\n               '    </tr>\\n'\n               '  </thead>\\n'\n               '  <tbody>\\n'\n               '    <tr>\\n'\n               '      <th>0</th>\\n'\n               '      <td>Equatorial Diameter:</td>\\n'\n               '      <td>6,792 km</td>\\n'\n               '    </tr>\\n'\n               '    <tr>\\n'\n               '      <th>1</th>\\n'\n               '      <td>Polar Diameter:</td>\\n'\n               '      <td>6,752 km</td>\\n'\n               '    </tr>\\n'\n               '    <tr>\\n'\n               '      <th>2</th>\\n'\n               '      <td>Mass:</td>\\n'\n               '      <td>6.39 × 10^23 kg (0.11 Earths)</td>\\n'\n               '    </tr>\\n'\n               '    <tr>\\n'\n               '      <th>3</th>\\n'\n               '      <td>Moons:</td>\\n'\n               '      <td>2 (Phobos &amp; Deimos)</td>\\n'\n               '    </tr>\\n'\n               '    <tr>\\n'\n               '      <th>4</th>\\n'\n               '      <td>Orbit Distance:</td>\\n'\n               '      <td>227,943,824 km (1.38 AU)</td>\\n'\n               '    </tr>\\n'\n               '    <tr>\\n'\n               '      <th>5</th>\\n'\n               '      <td>Orbit Period:</td>\\n'\n               '      <td>687 days (1.9 years)</td>\\n'\n               '    </tr>\\n'\n               '    <tr>\\n'\n               '      <th>6</th>\\n'\n               '      <td>Surface Temperature:</td>\\n'\n               '      <td>-87 to -5 °C</td>\\n'\n               '    </tr>\\n'\n               '    <tr>\\n'\n               '      <th>7</th>\\n'\n               '      <td>First Record:</td>\\n'\n               '      <td>2nd millennium BC</td>\\n'\n               '    </tr>\\n'\n               '    <tr>\\n'\n               '      <th>8</th>\\n'\n               '      <td>Recorded By:</td>\\n'\n               '      <td>Egyptian astronomers</td>\\n'\n               '    </tr>\\n'\n               '  </tbody>\\n'\n               '</table>'}\n"
     ]
    }
   ],
   "source": [
    "scrape_output = {\n",
    "    \"news_title\": news_title,\n",
    "    \"news_p\": news_p,\n",
    "    \"image_full_url\": image_full_url,\n",
    "    \"table_html\": table_html,\n",
    "    \"hemi_list\": hemi_list\n",
    "}\n",
    "pprint(scrape_output)"
   ]
  },
  {
   "cell_type": "code",
   "execution_count": 12,
   "metadata": {},
   "outputs": [],
   "source": [
    "# Setup connection to mongodb\n",
    "conn = \"mongodb://localhost:27017\"\n",
    "client = pymongo.MongoClient(conn)\n",
    "# Select database and collection to use\n",
    "db = client.scrape_db\n",
    "mars_coll = db.mars_coll"
   ]
  },
  {
   "cell_type": "code",
   "execution_count": 13,
   "metadata": {},
   "outputs": [
    {
     "output_type": "execute_result",
     "data": {
      "text/plain": [
       "<pymongo.results.InsertOneResult at 0x238780c3c80>"
      ]
     },
     "metadata": {},
     "execution_count": 13
    }
   ],
   "source": [
    "mars_coll.insert_one(scrape_output)"
   ]
  },
  {
   "cell_type": "code",
   "execution_count": 15,
   "metadata": {},
   "outputs": [
    {
     "output_type": "stream",
     "name": "stdout",
     "text": [
      "Data Uploaded!\n"
     ]
    }
   ],
   "source": [
    "client.close()\n",
    "print(\"Data Uploaded!\")"
   ]
  },
  {
   "cell_type": "code",
   "execution_count": null,
   "metadata": {},
   "outputs": [],
   "source": []
  }
 ]
}